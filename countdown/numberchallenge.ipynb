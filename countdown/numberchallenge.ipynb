{
 "cells": [
  {
   "cell_type": "code",
   "execution_count": 1,
   "metadata": {},
   "outputs": [],
   "source": [
    "import numpy as np\n",
    "\n",
    "#Numbers: A:25 B:50 C:9 D:8 E:3 F:4\n",
    "#Target: 881\n",
    "#Operations: + - * / ^\n",
    "#Steps .....\n",
    "#Constraints:\n",
    "#- Can only use numbers once\n",
    "#- Intermediate variables unlimited\n",
    "#- compound sequences.\n"
   ]
  },
  {
   "cell_type": "code",
   "execution_count": 53,
   "metadata": {},
   "outputs": [],
   "source": [
    "def do_op(n, ops, target, sol):\n",
    "    # checks\n",
    "    if n[-1] == target:\n",
    "        solution.append('yahoo!')\n",
    "        return True, n, sol\n",
    "    if n[-1] < 1:\n",
    "        solution.append(':-(')\n",
    "        return False, n, sol\n",
    "    if len(n)<2:\n",
    "        solution.append(':-(')\n",
    "        return False, n, sol\n",
    "    # do next op\n",
    "    idx = np.random.randint(0,len(ops))\n",
    "    sol.append(str(n[-1])+ops[idx]+str(n[-2]))\n",
    "    if ops[idx] == '+':\n",
    "        v = n.pop() + n.pop()\n",
    "        n.append(v)\n",
    "    elif ops[idx] == '-':\n",
    "        v = n.pop() - n.pop()\n",
    "        n.append(v)\n",
    "    elif ops[idx] == '*':\n",
    "        v = n.pop() * n.pop()\n",
    "        n.append(v)\n",
    "    elif ops[idx] == '/':\n",
    "        v = n.pop() / n.pop()\n",
    "        n.append(v)\n",
    "        if (not v.is_integer()):\n",
    "            return False, n, sol\n",
    "    elif ops[idx] == '^':\n",
    "        v = pow(n.pop(), n.pop())\n",
    "        n.append(v)\n",
    "    elif ops[idx] == '()':\n",
    "        v = n.pop()\n",
    "        v2 = n.pop()\n",
    "        n.append(v)\n",
    "        n.append(v2)\n",
    "    return do_op(n, ops, target, sol)\n"
   ]
  },
  {
   "cell_type": "code",
   "execution_count": 59,
   "metadata": {},
   "outputs": [],
   "source": [
    "def solve(given, target, max_trials):\n",
    "    #operations = ['+','-','*','/','^','()']\n",
    "    operations = ['+','-','*','/','()']\n",
    "    found = False\n",
    "    trials = 0 \n",
    "    while ((not found) and (trials < max_trials)):\n",
    "        solution = []\n",
    "        numbers = list(np.random.permutation(given))\n",
    "        found, n, solution = do_op(numbers, operations, target, solution)\n",
    "        trials += 1\n",
    "    return found, n, solution, trials"
   ]
  },
  {
   "cell_type": "code",
   "execution_count": 65,
   "metadata": {},
   "outputs": [
    {
     "name": "stdout",
     "output_type": "stream",
     "text": [
      "Solution found: True\n",
      "Trials: 249\n",
      "['50*3', '150()75', '75+150', '225*4']\n",
      "Result: 900 Unused: [5]\n"
     ]
    }
   ],
   "source": [
    "#given = [25, 50, 9, 8, 3, 4]; target = 881\n",
    "#given = [100, 75, 50, 25, 5, 4]; target = 974\n",
    "#given = [75, 50, 25, 6, 5, 4]; target = 949\n",
    "#given = [50, 6, 5, 4, 3, 2]; target = 832\n",
    "#given = [75, 50, 25, 3, 2, 1]; target = 654\n",
    "#given = [100, 75, 9, 8, 7, 6]; target = 391\n",
    "given = [75, 50, 6, 5, 4, 3]; target = 900\n",
    "\n",
    "\n",
    "max_trials = 1000000\n",
    "found, numbers, solution, trials = solve(given, target, max_trials)\n",
    "print('Solution found: ' + str(found))\n",
    "print('Trials: ' + str(trials))\n",
    "print(solution)\n",
    "if found:\n",
    "    print(\"Result: \" + str(numbers[-1]) + ' Unused: ' + str(numbers[0:-2]))"
   ]
  },
  {
   "cell_type": "code",
   "execution_count": null,
   "metadata": {},
   "outputs": [],
   "source": []
  }
 ],
 "metadata": {
  "kernelspec": {
   "display_name": "Python 3",
   "language": "python",
   "name": "python3"
  },
  "language_info": {
   "codemirror_mode": {
    "name": "ipython",
    "version": 3
   },
   "file_extension": ".py",
   "mimetype": "text/x-python",
   "name": "python",
   "nbconvert_exporter": "python",
   "pygments_lexer": "ipython3",
   "version": "3.6.4"
  }
 },
 "nbformat": 4,
 "nbformat_minor": 4
}
